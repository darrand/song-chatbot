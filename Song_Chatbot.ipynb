{
  "cells": [
    {
      "cell_type": "code",
      "execution_count": 6,
      "metadata": {
        "id": "7mfneuyIXTRW"
      },
      "outputs": [],
      "source": [
        "# Sumber dataset https://www.kaggle.com/imuhammad/audio-features-and-lyrics-of-spotify-songs\n",
        "# https://docs.google.com/document/d/1DPdsfIHn1nFRBsNYk1oId3KooaP8uQfek6noMv_3g3g/edit\n",
        "import numpy as np\n",
        "import nltk\n",
        "import pandas as pd\n",
        "import re\n",
        "import os"
      ]
    },
    {
      "cell_type": "code",
      "execution_count": 5,
      "metadata": {
        "colab": {
          "base_uri": "https://localhost:8080/"
        },
        "id": "b0s4agYY5wai",
        "outputId": "6a355c49-99fd-4ba7-d2c9-843d50f3513a"
      },
      "outputs": [
        {
          "name": "stderr",
          "output_type": "stream",
          "text": [
            "[nltk_data] Downloading package punkt to\n",
            "[nltk_data]     C:\\Users\\dafa.ramadansyah\\AppData\\Roaming\\nltk_data...\n",
            "[nltk_data]   Unzipping tokenizers\\punkt.zip.\n"
          ]
        },
        {
          "data": {
            "text/plain": [
              "True"
            ]
          },
          "execution_count": 5,
          "metadata": {},
          "output_type": "execute_result"
        }
      ],
      "source": [
        "nltk.download('punkt')"
      ]
    },
    {
      "cell_type": "markdown",
      "metadata": {
        "id": "42qFVgEUBVAA"
      },
      "source": [
        "# Pre-processing"
      ]
    },
    {
      "cell_type": "markdown",
      "metadata": {
        "id": "cGU1FL8aWnF9"
      },
      "source": [
        "## **[Filter based on language]**\n",
        "---"
      ]
    },
    {
      "cell_type": "code",
      "execution_count": 8,
      "metadata": {
        "id": "AmRxZmbeKiN-"
      },
      "outputs": [],
      "source": [
        "df = pd.read_csv(os.getcwd() + '/spotify_songs.csv')\n",
        "sorted = df.loc[df['language'] == 'en']\n",
        "sorted = sorted[['track_id','track_name','track_artist','lyrics','playlist_genre','playlist_subgenre','track_popularity']]\n",
        "sorted = sorted.dropna()\n",
        "sorted.to_csv(os.getcwd() +'/data.csv',index=False)"
      ]
    },
    {
      "cell_type": "markdown",
      "metadata": {
        "id": "JCNFsYFPVzhu"
      },
      "source": [
        "## **[Tokenization]**\n",
        "---"
      ]
    },
    {
      "cell_type": "markdown",
      "metadata": {
        "id": "cZ-Z38_MBiTX"
      },
      "source": [
        "### Cleansing lyric from contractions"
      ]
    },
    {
      "cell_type": "code",
      "execution_count": 10,
      "metadata": {
        "colab": {
          "base_uri": "https://localhost:8080/"
        },
        "id": "JGc0dxOpCr2P",
        "outputId": "c2512336-6ee9-40aa-9157-8cbe6f91dacd"
      },
      "outputs": [],
      "source": [
        "# Dictionary of english Contractions from https://www.analyticsvidhya.com/blog/2020/08/information-retrieval-using-word2vec-based-vector-space-model/ \n",
        "contractions_dict = { \"ain't\": \"are not\",\"'s\":\" is\",\"aren't\": \"are not\",\"can't\": \"can not\",\"can't've\": \"cannot have\",\n",
        "\"'cause\": \"because\",\"could've\": \"could have\",\"couldn't\": \"could not\",\"couldn't've\": \"could not have\",\n",
        "\"didn't\": \"did not\",\"doesn't\": \"does not\",\"don't\": \"do not\",\"hadn't\": \"had not\",\"hadn't've\": \"had not have\",\n",
        "\"hasn't\": \"has not\",\"haven't\": \"have not\",\"he'd\": \"he would\",\"he'd've\": \"he would have\",\"he'll\": \"he will\",\n",
        "\"he'll've\": \"he will have\",\"how'd\": \"how did\",\"how'd'y\": \"how do you\",\"how'll\": \"how will\",\"i'd\": \"i would\",\n",
        "\"i'd've\": \"i would have\",\"i'll\": \"i will\",\"i'll've\": \"i will have\",\"i'm\": \"i am\",\"i've\": \"i have\",\n",
        "\"isn't\": \"is not\",\"it'd\": \"it would\",\"it'd've\": \"it would have\",\"it'll\": \"it will\",\"it'll've\": \"it will have\",\n",
        "\"let's\": \"let us\",\"ma'am\": \"madam\",\"mayn't\": \"may not\",\"might've\": \"might have\",\"mightn't\": \"might not\",\n",
        "\"mightn't've\": \"might not have\",\"must've\": \"must have\",\"mustn't\": \"must not\",\"mustn't've\": \"must not have\",\n",
        "\"needn't\": \"need not\",\"needn't've\": \"need not have\",\"o'clock\": \"of the clock\",\"oughtn't\": \"ought not\",\n",
        "\"oughtn't've\": \"ought not have\",\"shan't\": \"shall not\",\"sha'n't\": \"shall not\",\n",
        "\"shan't've\": \"shall not have\",\"she'd\": \"she would\",\"she'd've\": \"she would have\",\"she'll\": \"she will\",\n",
        "\"she'll've\": \"she will have\",\"should've\": \"should have\",\"shouldn't\": \"should not\",\n",
        "\"shouldn't've\": \"should not have\",\"so've\": \"so have\",\"that'd\": \"that would\",\"that'd've\": \"that would have\",\n",
        "\"there'd\": \"there would\",\"there'd've\": \"there would have\",\n",
        "\"they'd\": \"they would\",\"they'd've\": \"they would have\",\"they'll\": \"they will\",\"they'll've\": \"they will have\",\n",
        "\"they're\": \"they are\",\"they've\": \"they have\",\"to've\": \"to have\",\"wasn't\": \"was not\",\"we'd\": \"we would\",\n",
        "\"we'd've\": \"we would have\",\"we'll\": \"we will\",\"we'll've\": \"we will have\",\"we're\": \"we are\",\"we've\": \"we have\",\n",
        "\"weren't\": \"were not\",\"what'll\": \"what will\",\"what'll've\": \"what will have\",\"what're\": \"what are\",\n",
        "\"what've\": \"what have\",\"when've\": \"when have\",\"where'd\": \"where did\",\n",
        "\"where've\": \"where have\",\"who'll\": \"who will\",\"who'll've\": \"who will have\",\"who've\": \"who have\",\n",
        "\"why've\": \"why have\",\"will've\": \"will have\",\"won't\": \"will not\",\"won't've\": \"will not have\",\n",
        "\"would've\": \"would have\",\"wouldn't\": \"would not\",\"wouldn't've\": \"would not have\",\"y'all\": \"you all\",\n",
        "\"y'all'd\": \"you all would\",\"y'all'd've\": \"you all would have\",\"y'all're\": \"you all are\",\"y'all've\": \"you all have\",\n",
        "\"you'd\": \"you would\",\"you'd've\": \"you would have\",\"you'll\": \"you will\",\"you'll've\": \"you will have\",\n",
        "\"you're\": \"you are\",\"you've\": \"you have\"}\n",
        "contractions_re=re.compile('(%s)' % '|'.join(contractions_dict.keys()))\n",
        "\n",
        "def expand_contractions(text,contractions_dict=contractions_dict):\n",
        "    def replace(match):\n",
        "        return contractions_dict[match.group(0)]\n",
        "    return contractions_re.sub(replace, text)\n",
        "\n",
        "def cleansed_docs(doc):\n",
        "  x = pd.Series([i.lower() for i in doc])\n",
        "  return x.apply(lambda x:expand_contractions(x))\n",
        "\n",
        "lyrics = cleansed_docs(sorted['lyrics'])\n",
        "titles = cleansed_docs(sorted['track_name'])"
      ]
    },
    {
      "cell_type": "code",
      "execution_count": 11,
      "metadata": {
        "id": "fvo0zP7gSVKv"
      },
      "outputs": [],
      "source": [
        "def tokenize_docs(doc):\n",
        "  output = []\n",
        "  for i in doc:\n",
        "    token = nltk.tokenize.word_tokenize(i)\n",
        "    clean_token = []\n",
        "    for i in token:\n",
        "      if str.isalnum(i):\n",
        "        clean_token.append(i)\n",
        "    output.append(clean_token)\n",
        "  return output"
      ]
    },
    {
      "cell_type": "markdown",
      "metadata": {
        "id": "Ia9ZxnJ1CYSP"
      },
      "source": [
        "### Tokenize lyric and titles"
      ]
    },
    {
      "cell_type": "code",
      "execution_count": 12,
      "metadata": {
        "colab": {
          "base_uri": "https://localhost:8080/"
        },
        "id": "axzZJ8Izf2JE",
        "outputId": "fba07e4a-357b-4027-dc2b-d57ef3ea5e24"
      },
      "outputs": [],
      "source": [
        "tok_lyric = tokenize_docs(lyrics)"
      ]
    },
    {
      "cell_type": "markdown",
      "metadata": {
        "id": "U3hFL92rCd-e"
      },
      "source": [
        "### Tokenize and cleansing artist name"
      ]
    },
    {
      "cell_type": "code",
      "execution_count": 13,
      "metadata": {
        "id": "aSlejkUvvm8c"
      },
      "outputs": [],
      "source": [
        "subt_dict = { \"\\$\": \"s\",\"&\":\" and \",\"-\": \" \",\"!\": \"i\",\"\\/\":\" \", \"'n\": \" and\", \"n'\": \"and\", \"\\.\":\"\"}\n",
        "temp_artist = sorted[['track_id','track_artist']].values.tolist()\n",
        "new_artists = [] \n",
        "for words in temp_artist:\n",
        "  result = words[1]\n",
        "  for keys in subt_dict.keys():\n",
        "    result = re.sub(r'{}'.format(keys),subt_dict[keys],result)\n",
        "  new_artists.append({words[0]: result})"
      ]
    },
    {
      "cell_type": "code",
      "execution_count": 14,
      "metadata": {
        "id": "b_XBuKHFrt7U"
      },
      "outputs": [],
      "source": [
        "tok_artist = []\n",
        "for dict_word in new_artists:\n",
        "  for key,values in dict_word.items():\n",
        "    token = nltk.tokenize.word_tokenize(values.lower())\n",
        "    clean_token = []\n",
        "    for i in token:\n",
        "      if str.isalnum(i):\n",
        "        clean_token.append(i)\n",
        "    tok_artist.append({key: clean_token})"
      ]
    },
    {
      "cell_type": "markdown",
      "metadata": {
        "id": "jxpjEViTDBCC"
      },
      "source": [
        "# IR Modelling"
      ]
    },
    {
      "cell_type": "markdown",
      "metadata": {
        "id": "nyw91dxfUZ3-"
      },
      "source": [
        "## **[Non Boolean Model for lyrics]**\n",
        "---"
      ]
    },
    {
      "cell_type": "code",
      "execution_count": 16,
      "metadata": {
        "colab": {
          "base_uri": "https://localhost:8080/"
        },
        "id": "tIlqbV3KFMKb",
        "outputId": "8399dd7f-9ec2-4c2e-c966-577306e145a3"
      },
      "outputs": [
        {
          "name": "stdout",
          "output_type": "stream",
          "text": [
            "8\n"
          ]
        }
      ],
      "source": [
        "from gensim.models import Word2Vec\n",
        "import multiprocessing\n",
        "from time import time\n",
        "print(multiprocessing.cpu_count())"
      ]
    },
    {
      "cell_type": "markdown",
      "metadata": {
        "id": "uImFQT5vEeGV"
      },
      "source": [
        "### Import an existing model or train a new one"
      ]
    },
    {
      "cell_type": "code",
      "execution_count": 91,
      "metadata": {
        "colab": {
          "base_uri": "https://localhost:8080/"
        },
        "id": "UFFVV_J67jxT",
        "outputId": "700f4750-431d-4607-8a20-b181af35273a"
      },
      "outputs": [
        {
          "name": "stdout",
          "output_type": "stream",
          "text": [
            "Existing model detected\n"
          ]
        }
      ],
      "source": [
        "try:\n",
        "  w2v_model = Word2Vec.load(os.getcwd() + \"\\spotify_songs_en.model\")\n",
        "  print('Existing model detected')\n",
        "except (FileNotFoundError):\n",
        "  w2v_model = Word2Vec(min_count=1, vector_size=300,window=10, workers=2, sg=1) \n",
        "  t = time()\n",
        "  w2v_model.build_vocab(tok_lyric)\n",
        "  print('Time elapsed: {} mins'.format(round((time() - t) / 60, 2)))\n",
        "  t = time()\n",
        "  w2v_model.train(tok_lyric, total_examples=w2v_model.corpus_count, epochs=10, report_delay=1)\n",
        "  w2v_model.save(os.getcwd() + '\\spotify_songs_en.model')\n",
        "  print('Time elapsed: {} mins'.format(round((time() - t) / 60, 2)))"
      ]
    },
    {
      "cell_type": "markdown",
      "metadata": {
        "id": "xRKnn4lOEyxs"
      },
      "source": [
        "### Word Embeddings for lyric"
      ]
    },
    {
      "cell_type": "code",
      "execution_count": 82,
      "metadata": {
        "id": "Munsd7Nt8Lka"
      },
      "outputs": [],
      "source": [
        "# Get the embeddings for lyrics\n",
        "def get_embeddings(tokens):\n",
        "  tok_val = []\n",
        "  if len(tokens) < 1:\n",
        "    return np.zeros(300)\n",
        "  for tok in tokens:\n",
        "    if tok in w2v_model.wv.key_to_index:\n",
        "      tok_val.append(w2v_model.wv.get_vector(tok))\n",
        "    else:\n",
        "      tok_val.append(np.random.rand(300))\n",
        "  return np.mean(tok_val, axis=0)"
      ]
    },
    {
      "cell_type": "markdown",
      "metadata": {
        "id": "UQwmJinDGh0q"
      },
      "source": [
        "### Finding song based on lyrics"
      ]
    },
    {
      "cell_type": "code",
      "execution_count": 83,
      "metadata": {
        "id": "E1Ybpr3NsPyX"
      },
      "outputs": [],
      "source": [
        "from sklearn.metrics.pairwise import cosine_similarity\n",
        "\n",
        "def preprocess_input(q):\n",
        "  query = q.lower()\n",
        "  q_tok = nltk.tokenize.word_tokenize(query)\n",
        "  q_tok = pd.Series(q_tok).apply(lambda x:expand_contractions(x))\n",
        "  q_clean = []\n",
        "  for i in q_tok:\n",
        "    if str.isalnum(i):\n",
        "      q_clean.append(i)\n",
        "  \n",
        "  return q_clean\n",
        "\n",
        "def find_lyrics(lyric, doc=None):\n",
        "  # Get embeddings for input\n",
        "  q_vec = preprocess_input(lyric)\n",
        "  q_vec = get_embeddings(q_vec)\n",
        "\n",
        "  # Get lyric|embed\n",
        "  embed_lyric = sorted.copy()\n",
        "  embed = []\n",
        "  for i in tok_lyric:\n",
        "    embed_val = get_embeddings(i)\n",
        "    embed.append(embed_val)\n",
        "  embed_lyric['embed_val'] = embed\n",
        "  \n",
        "  # Get Cosine Similarity\n",
        "  sim = []\n",
        "  for i in embed_lyric['embed_val']:\n",
        "    similar = cosine_similarity(q_vec.reshape(1,-1), i.reshape(1, -1))\n",
        "    sim.append(similar)\n",
        "\n",
        "  embed_lyric['similarity'] = sim \n",
        "\n",
        "  if doc is not None:\n",
        "    new_doc = pd.DataFrame(columns=doc.columns)\n",
        "    for i in doc['track_id']:\n",
        "      ranked_el = embed_lyric.query(\"track_id == '{}'\".format(str(i)))\n",
        "      new_doc = new_doc.append(ranked_el)\n",
        "      \n",
        "    new_doc.sort_values(by='similarity', ascending=False, inplace=True)\n",
        "    return new_doc.head(10).reset_index(drop=True)\n",
        "\n",
        "  embed_lyric.sort_values(by='similarity',ascending=False, inplace=True)\n",
        "\n",
        "\n",
        "  top_songs = embed_lyric.head(10).reset_index(drop=True)\n",
        "  top_songs.sort_values(by='track_popularity', ascending=False, inplace=True)\n",
        "  return top_songs.head(10).reset_index(drop=True)\n"
      ]
    },
    {
      "cell_type": "markdown",
      "metadata": {
        "id": "js_YSpFVXRZy"
      },
      "source": [
        "## **[Boolean Model for artists]**\n",
        "---"
      ]
    },
    {
      "cell_type": "markdown",
      "metadata": {
        "id": "7R_H_akGGCWZ"
      },
      "source": [
        "### Checking artist name's mispelling"
      ]
    },
    {
      "cell_type": "code",
      "execution_count": 66,
      "metadata": {
        "colab": {
          "base_uri": "https://localhost:8080/",
          "height": 35
        },
        "id": "t1TmDgtLAMiU",
        "outputId": "0c91e135-714a-42f8-c950-e16d45621079"
      },
      "outputs": [],
      "source": [
        "'''\n",
        "Spell Checker using norvig spell checker for artist name, some problems:\n",
        "Its accuracy is worrying\n",
        "'''\n",
        "from spellchecker import SpellChecker\n",
        "\n",
        "def build_frequency_list_artist():\n",
        "  freq = {}\n",
        "  for list_a in tok_artist:\n",
        "      for key,values in list_a.items():\n",
        "        for value in values:\n",
        "          if value not in freq.keys():\n",
        "            freq[value] = 1\n",
        "          else :\n",
        "            freq[value] += 1\n",
        "\n",
        "  with open(os.getcwd() + '//freq_list_artis.txt','w', encoding='utf-8') as file:\n",
        "    for key,values in freq.items():\n",
        "      file.write('{} {}\\n'.format(key, values))\n",
        "build_frequency_list_artist()\n",
        "\n",
        "def spell_check_artist(kalimat):\n",
        "  # turn off loading a built language dictionary\n",
        "  spell = SpellChecker(language=None)\n",
        "  spell.word_frequency.load_text_file(os.getcwd() + '/freq_list_artis.txt', encoding=\"utf-8\")\n",
        "\n",
        "  # find those words that may be misspelled\n",
        "  result = []\n",
        "  for word in kalimat:\n",
        "    misspelled = spell.unknown([word])\n",
        "    if misspelled:\n",
        "      for mis_words in misspelled:\n",
        "        result.append(spell.correction(mis_words))\n",
        "    else:\n",
        "      result.append(word)\n",
        "\n",
        "  separator = ' '\n",
        "  result = separator.join(result)\n",
        "  return result"
      ]
    },
    {
      "cell_type": "markdown",
      "metadata": {
        "id": "yeadklzOGYB9"
      },
      "source": [
        "### Indexing artists' name"
      ]
    },
    {
      "cell_type": "code",
      "execution_count": 67,
      "metadata": {
        "id": "HGLZkebKxWAV"
      },
      "outputs": [],
      "source": [
        "def create_index(token):\n",
        "  hasil = {}\n",
        "  for docs in token:\n",
        "    i = list(docs.keys())[0]\n",
        "    for j,word in enumerate(docs[i]):\n",
        "      if word in hasil.keys():\n",
        "        if i not in hasil[word].keys():\n",
        "          hasil[word][i] = [j]  \n",
        "        else:\n",
        "          hasil[word][i].append(j)\n",
        "      else:\n",
        "        hasil[word] = {i:[j]}\n",
        "  return hasil"
      ]
    },
    {
      "cell_type": "code",
      "execution_count": 68,
      "metadata": {
        "colab": {
          "base_uri": "https://localhost:8080/"
        },
        "id": "fiIPNHmPxWIh",
        "outputId": "c3ced29b-a7a0-490d-af1a-c86e7af017a7"
      },
      "outputs": [],
      "source": [
        "index_artist = create_index(tok_artist)"
      ]
    },
    {
      "cell_type": "markdown",
      "metadata": {
        "id": "LXFuJGX_Jd0I"
      },
      "source": [
        "### Find song based on artist"
      ]
    },
    {
      "cell_type": "code",
      "execution_count": 69,
      "metadata": {
        "id": "GEeaelXEQ-bI"
      },
      "outputs": [],
      "source": [
        "def positional_intersect(prev_word,next_word):\n",
        "  intersect_id = set()\n",
        "  for doc_id_1 in prev_word.keys():\n",
        "    if doc_id_1 in next_word.keys():\n",
        "      for doc_pos in prev_word[doc_id_1]:\n",
        "        if doc_pos+1 in next_word[doc_id_1]:\n",
        "          intersect_id.add(doc_id_1)\n",
        "  return intersect_id\n",
        "\n",
        "def get_query(kalimat,token_dict):\n",
        "  token = nltk.tokenize.word_tokenize(kalimat.lower())\n",
        "  if len(token) == 1:\n",
        "    hasil = token_dict[token[0]].keys()\n",
        "    return hasil  \n",
        "  token_hasil = token[1:]\n",
        "  hasil = token_dict[token[0]].keys()\n",
        "  temp_word = token[0]\n",
        "  for word in token_hasil:\n",
        "      hasil = hasil & positional_intersect(token_dict[temp_word],token_dict[word])\n",
        "      temp_word = word\n",
        "  return hasil\n",
        "\n",
        "def retrieve_result_artist(kalimat,token=index_artist, lyrics=False):\n",
        "  kalimat = spell_check_artist(nltk.tokenize.word_tokenize(kalimat))\n",
        "  id_set = get_query(kalimat,token)\n",
        "  artist_result = pd.DataFrame()\n",
        "  artist_result = sorted[sorted['track_id'].isin(id_set)]\n",
        "  artist_result = artist_result.sort_values(by='track_popularity', ascending=False)\n",
        "  if lyrics:\n",
        "    return artist_result\n",
        "  return artist_result.head(10)"
      ]
    },
    {
      "cell_type": "markdown",
      "metadata": {
        "id": "jgu5aAl8xWoV"
      },
      "source": [
        "## **[Boolean Model for song title]**"
      ]
    },
    {
      "cell_type": "markdown",
      "metadata": {
        "id": "M2pEzU9xIq3n"
      },
      "source": [
        "### Indexing song title"
      ]
    },
    {
      "cell_type": "code",
      "execution_count": 71,
      "metadata": {
        "id": "JrtuiKrHCPoS"
      },
      "outputs": [],
      "source": [
        "def indexer(list_of_lists):\n",
        "  #for making a index with the type of dictionary, made for title\n",
        "  index = dict()\n",
        "  for i in range(len(list_of_lists)):\n",
        "    title = list_of_lists[i]\n",
        "    for no in range(len(title)):\n",
        "      token = title[no]\n",
        "      if token not in index.keys():\n",
        "        temp = dict()\n",
        "        temp[i] = [no] \n",
        "        index[token] = temp\n",
        "      else:\n",
        "        if i in index[token].keys():\n",
        "          index[token][i] += [no]\n",
        "        else:\n",
        "          index[token][i] = [no]\n",
        "  return index"
      ]
    },
    {
      "cell_type": "markdown",
      "metadata": {
        "id": "K0hYYXjUJHtM"
      },
      "source": [
        "### Spelling correction for song title"
      ]
    },
    {
      "cell_type": "code",
      "execution_count": 72,
      "metadata": {
        "id": "VsYiPKDkJ2K5"
      },
      "outputs": [],
      "source": [
        "from autocorrect import Speller\n",
        "spell = Speller(lang='en')\n",
        "\n",
        "def preprocess_input_with_spelling(q):\n",
        "  query = q.lower()\n",
        "  q_tok = nltk.tokenize.word_tokenize(query)\n",
        "  q_tok = pd.Series(q_tok).apply(lambda x:expand_contractions(x))\n",
        "  q_clean = []\n",
        "  for i in q_tok:\n",
        "    if str.isalnum(i):\n",
        "      autocorrect = spell(i)\n",
        "      q_clean.append(autocorrect)\n",
        "  \n",
        "  return q_clean"
      ]
    },
    {
      "cell_type": "markdown",
      "metadata": {
        "id": "KUFLaYxQ-Ck3"
      },
      "source": [
        "### Find the intersection between query and title index"
      ]
    },
    {
      "cell_type": "code",
      "execution_count": 73,
      "metadata": {
        "id": "IpyG7YdNL8ee"
      },
      "outputs": [],
      "source": [
        "def find_intersection(query, index):\n",
        "  keys = index.keys()\n",
        "  q_clean = preprocess_input_with_spelling(query)\n",
        "  set_of_indexes = []\n",
        "  answer_indexes = []\n",
        "  for token in q_clean:\n",
        "    if token in keys:\n",
        "      set_of_indexes.append(set(list(index[token])))\n",
        "\n",
        "  if len(set_of_indexes) > 0:\n",
        "    answer_indexes = set_of_indexes[0]\n",
        "    for ind_set in set_of_indexes:\n",
        "      answer_indexes = answer_indexes.intersection(ind_set)\n",
        "  \n",
        "  answer_indexes = list(answer_indexes)\n",
        "  return answer_indexes[:10]"
      ]
    },
    {
      "cell_type": "code",
      "execution_count": 74,
      "metadata": {},
      "outputs": [],
      "source": [
        "tok_title = tokenize_docs(titles)\n",
        "title_index = indexer(tok_title)"
      ]
    },
    {
      "cell_type": "markdown",
      "metadata": {
        "id": "cH4KJiimJP76"
      },
      "source": [
        "### Find song based on title"
      ]
    },
    {
      "cell_type": "code",
      "execution_count": 75,
      "metadata": {
        "id": "_A7S-4psViQa"
      },
      "outputs": [],
      "source": [
        "def find_title(query, title_index=title_index, data=sorted):\n",
        "  indx = find_intersection(query, title_index)\n",
        "  answer = pd.DataFrame()\n",
        "  if indx == []:\n",
        "    answer = \"Not Found\"\n",
        "    print(answer)\n",
        "    return 0\n",
        "  answer = sorted.iloc[indx]\n",
        "  answer = answer.sort_values(by='track_popularity', ascending=False)                 \n",
        "  return answer"
      ]
    },
    {
      "cell_type": "markdown",
      "metadata": {
        "id": "oDF0roQnHVNa"
      },
      "source": [
        "## Input combination"
      ]
    },
    {
      "cell_type": "markdown",
      "metadata": {
        "id": "-Ce2X8iuJwNX"
      },
      "source": [
        "### Arist & Title"
      ]
    },
    {
      "cell_type": "code",
      "execution_count": 78,
      "metadata": {
        "id": "Y1UPbUFTqWHo"
      },
      "outputs": [],
      "source": [
        "def retrieve_artist_title(q_artist, q_title):\n",
        "  artist_filter = retrieve_result_artist(q_artist, lyrics=True)\n",
        "  title_filter = find_title(q_title)\n",
        "  full_filter = pd.merge(artist_filter, title_filter, how='right', on=['track_artist', \"track_name\"])\n",
        "  full_filter = full_filter.iloc[:, 0:7].dropna()\n",
        "  full_filter.columns = artist_filter.columns\n",
        "  return full_filter"
      ]
    },
    {
      "cell_type": "markdown",
      "metadata": {
        "id": "2YScjEAGJ0W_"
      },
      "source": [
        "### Artist & Lyric"
      ]
    },
    {
      "cell_type": "code",
      "execution_count": 88,
      "metadata": {
        "id": "KcUwj7ijZmcU"
      },
      "outputs": [],
      "source": [
        "# Jika artist and lyrics\n",
        "def retrieve_artist_lyrics(q_artist, q_lyrics):\n",
        "  artist_filter = retrieve_result_artist(q_artist, lyrics=True)\n",
        "  full_filter = find_lyrics(q_lyrics, artist_filter)\n",
        "  return full_filter"
      ]
    },
    {
      "cell_type": "markdown",
      "metadata": {
        "id": "GlgqdkePJ4pr"
      },
      "source": [
        "### Title Lyric"
      ]
    },
    {
      "cell_type": "code",
      "execution_count": 89,
      "metadata": {
        "id": "QzPe_XDDHRBo"
      },
      "outputs": [],
      "source": [
        "def find_title_lyrics(q_title, q_lyrics):\n",
        "  title_idx = indexer(tok_title)\n",
        "  title_doc = find_title(q_title, title_idx, sorted)\n",
        "  full_doc = find_lyrics(q_lyrics, title_doc)\n",
        "  return full_doc"
      ]
    },
    {
      "cell_type": "markdown",
      "metadata": {
        "id": "sG945lYRQ_8s"
      },
      "source": [
        "# **[Evaluation]**\n",
        "\n",
        "Test case dan perhitungan dilakukan di dokumen dokumentasi program"
      ]
    },
    {
      "cell_type": "markdown",
      "metadata": {
        "id": "oXg2iM7rNlvi"
      },
      "source": [
        "# Misc"
      ]
    },
    {
      "cell_type": "code",
      "execution_count": 39,
      "metadata": {
        "id": "U-mREwwdFnya"
      },
      "outputs": [],
      "source": [
        "def out_beautifier(doc):\n",
        "    if isinstance(doc, int):\n",
        "        return\n",
        "    out = doc[['track_name', 'track_artist', 'lyrics', 'track_popularity','playlist_genre']]\n",
        "    display(out)"
      ]
    },
    {
      "cell_type": "markdown",
      "metadata": {
        "id": "Olvo7BiAYTjX"
      },
      "source": [
        "# **[Main Program]**"
      ]
    },
    {
      "cell_type": "code",
      "execution_count": 40,
      "metadata": {
        "id": "xu21RO32k9e3"
      },
      "outputs": [],
      "source": [
        "def main():\n",
        "  print('''Hello I am Music Checker(temp)\\n \n",
        "  ''')\n",
        "  while True:\n",
        "    print('What do you want to do?\\n1.Search\\n2.Quit')\n",
        "    try:\n",
        "      opening = int(input())\n",
        "      if opening == 2:\n",
        "        print('Goodbye!')\n",
        "        return \n",
        "      elif opening != 1:\n",
        "        continue\n",
        "    except:\n",
        "      continue\n",
        "      \n",
        "    print(\"Please input the title of the song. (You can leave it blank if you don't know)\")\n",
        "    in_title = str(input())\n",
        "    print(\"Please input the artist of the song. (You can leave it blank if you don't know)\")\n",
        "    in_artist = str(input())\n",
        "    print(\"Please input part of the lyrics of the song. (You can leave it blank if you don't know)\")\n",
        "    in_lyrics = str(input()) \n",
        "\n",
        "    if in_title == '' and in_artist == '' and in_lyrics == '': # All blank\n",
        "      print(\"You can't have it all blank\")\n",
        "      continue\n",
        "    if in_title != '' and in_artist != '': #Artist & Title\n",
        "      # call search in_title & in_artist\n",
        "      out_beautifier(retrieve_artist_title(in_artist, in_title))\n",
        "      continue\n",
        "    if in_title != '' and in_artist == '' and in_lyrics != '': # Title & Lyric\n",
        "      # call search in_title & in_lyrics\n",
        "      out_beautifier(find_title_lyrics(in_title, in_lyrics))\n",
        "      continue\n",
        "    if in_title == '' and in_artist != '' and in_lyrics != '': # Artist & Lyric\n",
        "      # call search in_artist & in_lyrics\n",
        "      out_beautifier(retrieve_artist_lyrics(in_artist, in_lyrics))\n",
        "      continue\n",
        "    if in_title != '' and in_artist == '' and in_lyrics == '': # Title\n",
        "      # Call search in_title\n",
        "      out_beautifier(find_title(in_title))\n",
        "      continue\n",
        "    if in_title == '' and in_artist != '' and in_lyrics == '': # Artist\n",
        "      out_beautifier(retrieve_result_artist(in_artist))\n",
        "      # call search in_artist\n",
        "      continue\n",
        "    if in_title == '' and in_artist == '' and in_lyrics != '': # Lyric\n",
        "      # call search in_lyrics\n",
        "      out_beautifier(find_lyrics(in_lyrics))\n",
        "      continue"
      ]
    },
    {
      "cell_type": "markdown",
      "metadata": {
        "id": "lXUuR6yXeZbE"
      },
      "source": [
        "# Test case"
      ]
    },
    {
      "cell_type": "code",
      "execution_count": 41,
      "metadata": {
        "colab": {
          "base_uri": "https://localhost:8080/",
          "height": 474
        },
        "id": "ZD5tSSQZKDja",
        "outputId": "c9500710-154a-45e4-edb8-44583e91fb82"
      },
      "outputs": [
        {
          "name": "stdout",
          "output_type": "stream",
          "text": [
            "Hello I am Music Checker(temp)\n",
            " \n",
            "  \n",
            "What do you want to do?\n",
            "1.Search\n",
            "2.Quit\n",
            "1\n",
            "Please input the title of the song. (You can leave it blank if you don't know)\n",
            "In the end\n",
            "Please input the artist of the song. (You can leave it blank if you don't know)\n",
            "\n",
            "Please input part of the lyrics of the song. (You can leave it blank if you don't know)\n",
            "\n"
          ]
        },
        {
          "data": {
            "text/html": [
              "<div>\n",
              "<style scoped>\n",
              "    .dataframe tbody tr th:only-of-type {\n",
              "        vertical-align: middle;\n",
              "    }\n",
              "\n",
              "    .dataframe tbody tr th {\n",
              "        vertical-align: top;\n",
              "    }\n",
              "\n",
              "    .dataframe thead th {\n",
              "        text-align: right;\n",
              "    }\n",
              "</style>\n",
              "<table border=\"1\" class=\"dataframe\">\n",
              "  <thead>\n",
              "    <tr style=\"text-align: right;\">\n",
              "      <th></th>\n",
              "      <th>track_name</th>\n",
              "      <th>track_artist</th>\n",
              "      <th>lyrics</th>\n",
              "      <th>track_popularity</th>\n",
              "      <th>playlist_genre</th>\n",
              "    </tr>\n",
              "  </thead>\n",
              "  <tbody>\n",
              "    <tr>\n",
              "      <th>14127</th>\n",
              "      <td>In the End</td>\n",
              "      <td>Linkin Park</td>\n",
              "      <td>It starts with one One thing, I don't know why...</td>\n",
              "      <td>83</td>\n",
              "      <td>rock</td>\n",
              "    </tr>\n",
              "    <tr>\n",
              "      <th>6785</th>\n",
              "      <td>In the End (Lost Tapes)</td>\n",
              "      <td>Röyksopp</td>\n",
              "      <td>\"The boy's a genius\" You'll hear them say \"Oh ...</td>\n",
              "      <td>45</td>\n",
              "      <td>pop</td>\n",
              "    </tr>\n",
              "    <tr>\n",
              "      <th>3154</th>\n",
              "      <td>In the End</td>\n",
              "      <td>The Cranberries</td>\n",
              "      <td>Ain't it strange When everything you wanted Wa...</td>\n",
              "      <td>43</td>\n",
              "      <td>rock</td>\n",
              "    </tr>\n",
              "    <tr>\n",
              "      <th>14104</th>\n",
              "      <td>The Loser In The End - Remastered 2011</td>\n",
              "      <td>Queen</td>\n",
              "      <td>Mama's gotta problem She don't know what to sa...</td>\n",
              "      <td>33</td>\n",
              "      <td>rock</td>\n",
              "    </tr>\n",
              "  </tbody>\n",
              "</table>\n",
              "</div>"
            ],
            "text/plain": [
              "                                   track_name  ... playlist_genre\n",
              "14127                              In the End  ...           rock\n",
              "6785                  In the End (Lost Tapes)  ...            pop\n",
              "3154                               In the End  ...           rock\n",
              "14104  The Loser In The End - Remastered 2011  ...           rock\n",
              "\n",
              "[4 rows x 5 columns]"
            ]
          },
          "metadata": {
            "tags": []
          },
          "output_type": "display_data"
        },
        {
          "name": "stdout",
          "output_type": "stream",
          "text": [
            "What do you want to do?\n",
            "1.Search\n",
            "2.Quit\n",
            "2\n",
            "Goodbye!\n"
          ]
        }
      ],
      "source": [
        "main() #Checking title only"
      ]
    },
    {
      "cell_type": "code",
      "execution_count": 45,
      "metadata": {
        "colab": {
          "base_uri": "https://localhost:8080/",
          "height": 659
        },
        "id": "nMbG4A_SXbz1",
        "outputId": "c0c70dd6-5449-47d3-f373-50ddd8dfe198"
      },
      "outputs": [
        {
          "name": "stdout",
          "output_type": "stream",
          "text": [
            "Hello I am Music Checker(temp)\n",
            " \n",
            "  \n",
            "What do you want to do?\n",
            "1.Search\n",
            "2.Quit\n",
            "1\n",
            "Please input the title of the song. (You can leave it blank if you don't know)\n",
            "\n",
            "Please input the artist of the song. (You can leave it blank if you don't know)\n",
            "Queen\n",
            "Please input part of the lyrics of the song. (You can leave it blank if you don't know)\n",
            "\n"
          ]
        },
        {
          "data": {
            "text/html": [
              "<div>\n",
              "<style scoped>\n",
              "    .dataframe tbody tr th:only-of-type {\n",
              "        vertical-align: middle;\n",
              "    }\n",
              "\n",
              "    .dataframe tbody tr th {\n",
              "        vertical-align: top;\n",
              "    }\n",
              "\n",
              "    .dataframe thead th {\n",
              "        text-align: right;\n",
              "    }\n",
              "</style>\n",
              "<table border=\"1\" class=\"dataframe\">\n",
              "  <thead>\n",
              "    <tr style=\"text-align: right;\">\n",
              "      <th></th>\n",
              "      <th>track_name</th>\n",
              "      <th>track_artist</th>\n",
              "      <th>lyrics</th>\n",
              "      <th>track_popularity</th>\n",
              "      <th>playlist_genre</th>\n",
              "    </tr>\n",
              "  </thead>\n",
              "  <tbody>\n",
              "    <tr>\n",
              "      <th>11381</th>\n",
              "      <td>Bohemian Rhapsody - 2011 Mix</td>\n",
              "      <td>Queen</td>\n",
              "      <td>Is this the real life? Is this just fantasy? C...</td>\n",
              "      <td>84</td>\n",
              "      <td>rock</td>\n",
              "    </tr>\n",
              "    <tr>\n",
              "      <th>13600</th>\n",
              "      <td>Don't Stop Me Now - 2011 Mix</td>\n",
              "      <td>Queen</td>\n",
              "      <td>Tonight I'm gonna have myself a real good time...</td>\n",
              "      <td>83</td>\n",
              "      <td>rock</td>\n",
              "    </tr>\n",
              "    <tr>\n",
              "      <th>13774</th>\n",
              "      <td>Another One Bites The Dust - Remastered 2011</td>\n",
              "      <td>Queen</td>\n",
              "      <td>Ooh, let's go! Steve walks warily down the str...</td>\n",
              "      <td>82</td>\n",
              "      <td>rock</td>\n",
              "    </tr>\n",
              "    <tr>\n",
              "      <th>5579</th>\n",
              "      <td>Under Pressure - Remastered</td>\n",
              "      <td>Queen</td>\n",
              "      <td>Mmm num ba de Dum bum ba be Doo buh dum ba beh...</td>\n",
              "      <td>81</td>\n",
              "      <td>rock</td>\n",
              "    </tr>\n",
              "    <tr>\n",
              "      <th>10989</th>\n",
              "      <td>We Will Rock You - Remastered</td>\n",
              "      <td>Queen</td>\n",
              "      <td>Buddy, you're a boy, make a big noise Playing ...</td>\n",
              "      <td>79</td>\n",
              "      <td>rock</td>\n",
              "    </tr>\n",
              "    <tr>\n",
              "      <th>18182</th>\n",
              "      <td>Bohemian Rhapsody - 2011 Mix</td>\n",
              "      <td>Queen</td>\n",
              "      <td>Is this the real life? Is this just fantasy? C...</td>\n",
              "      <td>76</td>\n",
              "      <td>rock</td>\n",
              "    </tr>\n",
              "    <tr>\n",
              "      <th>3646</th>\n",
              "      <td>We Are The Champions - Remastered 2011</td>\n",
              "      <td>Queen</td>\n",
              "      <td>I've paid my dues Time after time I've done my...</td>\n",
              "      <td>76</td>\n",
              "      <td>rock</td>\n",
              "    </tr>\n",
              "    <tr>\n",
              "      <th>17507</th>\n",
              "      <td>Don't Stop Me Now - 2011 Mix</td>\n",
              "      <td>Queen</td>\n",
              "      <td>Tonight I'm gonna have myself a real good time...</td>\n",
              "      <td>75</td>\n",
              "      <td>pop</td>\n",
              "    </tr>\n",
              "    <tr>\n",
              "      <th>12078</th>\n",
              "      <td>Another One Bites The Dust - Remastered 2011</td>\n",
              "      <td>Queen</td>\n",
              "      <td>Ooh, let's go! Steve walks warily down the str...</td>\n",
              "      <td>74</td>\n",
              "      <td>rock</td>\n",
              "    </tr>\n",
              "    <tr>\n",
              "      <th>16333</th>\n",
              "      <td>Crazy Little Thing Called Love - Remastered 2011</td>\n",
              "      <td>Queen</td>\n",
              "      <td>NA This thing called love I just can't handle ...</td>\n",
              "      <td>74</td>\n",
              "      <td>rock</td>\n",
              "    </tr>\n",
              "  </tbody>\n",
              "</table>\n",
              "</div>"
            ],
            "text/plain": [
              "                                             track_name  ... playlist_genre\n",
              "11381                      Bohemian Rhapsody - 2011 Mix  ...           rock\n",
              "13600                      Don't Stop Me Now - 2011 Mix  ...           rock\n",
              "13774      Another One Bites The Dust - Remastered 2011  ...           rock\n",
              "5579                        Under Pressure - Remastered  ...           rock\n",
              "10989                     We Will Rock You - Remastered  ...           rock\n",
              "18182                      Bohemian Rhapsody - 2011 Mix  ...           rock\n",
              "3646             We Are The Champions - Remastered 2011  ...           rock\n",
              "17507                      Don't Stop Me Now - 2011 Mix  ...            pop\n",
              "12078      Another One Bites The Dust - Remastered 2011  ...           rock\n",
              "16333  Crazy Little Thing Called Love - Remastered 2011  ...           rock\n",
              "\n",
              "[10 rows x 5 columns]"
            ]
          },
          "metadata": {
            "tags": []
          },
          "output_type": "display_data"
        },
        {
          "name": "stdout",
          "output_type": "stream",
          "text": [
            "What do you want to do?\n",
            "1.Search\n",
            "2.Quit\n",
            "2\n",
            "Goodbye!\n"
          ]
        }
      ],
      "source": [
        "main() #Artist only"
      ]
    },
    {
      "cell_type": "code",
      "execution_count": 46,
      "metadata": {
        "colab": {
          "base_uri": "https://localhost:8080/",
          "height": 659
        },
        "id": "0O_6H0HbSzGi",
        "outputId": "488cad3f-85bd-4762-f7f9-70c65b67e123"
      },
      "outputs": [
        {
          "name": "stdout",
          "output_type": "stream",
          "text": [
            "Hello I am Music Checker(temp)\n",
            " \n",
            "  \n",
            "What do you want to do?\n",
            "1.Search\n",
            "2.Quit\n",
            "1\n",
            "Please input the title of the song. (You can leave it blank if you don't know)\n",
            "\n",
            "Please input the artist of the song. (You can leave it blank if you don't know)\n",
            "\n",
            "Please input part of the lyrics of the song. (You can leave it blank if you don't know)\n",
            "spread my wings and fly away, I believe i can fly\n"
          ]
        },
        {
          "data": {
            "text/html": [
              "<div>\n",
              "<style scoped>\n",
              "    .dataframe tbody tr th:only-of-type {\n",
              "        vertical-align: middle;\n",
              "    }\n",
              "\n",
              "    .dataframe tbody tr th {\n",
              "        vertical-align: top;\n",
              "    }\n",
              "\n",
              "    .dataframe thead th {\n",
              "        text-align: right;\n",
              "    }\n",
              "</style>\n",
              "<table border=\"1\" class=\"dataframe\">\n",
              "  <thead>\n",
              "    <tr style=\"text-align: right;\">\n",
              "      <th></th>\n",
              "      <th>track_name</th>\n",
              "      <th>track_artist</th>\n",
              "      <th>lyrics</th>\n",
              "      <th>track_popularity</th>\n",
              "      <th>playlist_genre</th>\n",
              "    </tr>\n",
              "  </thead>\n",
              "  <tbody>\n",
              "    <tr>\n",
              "      <th>0</th>\n",
              "      <td>Learning To Fly</td>\n",
              "      <td>Tom Petty and the Heartbreakers</td>\n",
              "      <td>Well, I started out down a dirty road Started ...</td>\n",
              "      <td>71</td>\n",
              "      <td>rock</td>\n",
              "    </tr>\n",
              "    <tr>\n",
              "      <th>1</th>\n",
              "      <td>Breakaway</td>\n",
              "      <td>Kelly Clarkson</td>\n",
              "      <td>Grew up in a small town And when the rain woul...</td>\n",
              "      <td>64</td>\n",
              "      <td>latin</td>\n",
              "    </tr>\n",
              "    <tr>\n",
              "      <th>2</th>\n",
              "      <td>O</td>\n",
              "      <td>Coldplay</td>\n",
              "      <td>NA Flock of birds Hovering above Just a flock ...</td>\n",
              "      <td>63</td>\n",
              "      <td>rock</td>\n",
              "    </tr>\n",
              "    <tr>\n",
              "      <th>3</th>\n",
              "      <td>Breakaway</td>\n",
              "      <td>Kelly Clarkson</td>\n",
              "      <td>Grew up in a small town And when the rain woul...</td>\n",
              "      <td>61</td>\n",
              "      <td>pop</td>\n",
              "    </tr>\n",
              "    <tr>\n",
              "      <th>4</th>\n",
              "      <td>Spread Your Wings - 2011 Mix</td>\n",
              "      <td>Queen</td>\n",
              "      <td>Sammy was low, just watching the show Over and...</td>\n",
              "      <td>59</td>\n",
              "      <td>rock</td>\n",
              "    </tr>\n",
              "    <tr>\n",
              "      <th>5</th>\n",
              "      <td>Pretty Wings - uncut</td>\n",
              "      <td>Maxwell</td>\n",
              "      <td>Time will bring the real end of our trial One ...</td>\n",
              "      <td>58</td>\n",
              "      <td>r&amp;b</td>\n",
              "    </tr>\n",
              "    <tr>\n",
              "      <th>6</th>\n",
              "      <td>Forgotten How to Fly</td>\n",
              "      <td>CLAY</td>\n",
              "      <td>All my life All my life Can you hear me, when ...</td>\n",
              "      <td>36</td>\n",
              "      <td>r&amp;b</td>\n",
              "    </tr>\n",
              "    <tr>\n",
              "      <th>7</th>\n",
              "      <td>O - Reprise</td>\n",
              "      <td>Coldplay</td>\n",
              "      <td>NA Flock of birds Hovering above Just a flock ...</td>\n",
              "      <td>32</td>\n",
              "      <td>rock</td>\n",
              "    </tr>\n",
              "    <tr>\n",
              "      <th>8</th>\n",
              "      <td>Birds Fly - W&amp;W Festival Mix Edit</td>\n",
              "      <td>Hardwell</td>\n",
              "      <td>Ask me, do I want this? I'll say \"do birds fly...</td>\n",
              "      <td>17</td>\n",
              "      <td>edm</td>\n",
              "    </tr>\n",
              "    <tr>\n",
              "      <th>9</th>\n",
              "      <td>I Believe I Can Fly - Radio Edit</td>\n",
              "      <td>R. Kelly</td>\n",
              "      <td>I used to think that I could not go on And lif...</td>\n",
              "      <td>1</td>\n",
              "      <td>r&amp;b</td>\n",
              "    </tr>\n",
              "  </tbody>\n",
              "</table>\n",
              "</div>"
            ],
            "text/plain": [
              "                          track_name  ... playlist_genre\n",
              "0                    Learning To Fly  ...           rock\n",
              "1                          Breakaway  ...          latin\n",
              "2                                  O  ...           rock\n",
              "3                          Breakaway  ...            pop\n",
              "4       Spread Your Wings - 2011 Mix  ...           rock\n",
              "5               Pretty Wings - uncut  ...            r&b\n",
              "6               Forgotten How to Fly  ...            r&b\n",
              "7                        O - Reprise  ...           rock\n",
              "8  Birds Fly - W&W Festival Mix Edit  ...            edm\n",
              "9   I Believe I Can Fly - Radio Edit  ...            r&b\n",
              "\n",
              "[10 rows x 5 columns]"
            ]
          },
          "metadata": {
            "tags": []
          },
          "output_type": "display_data"
        },
        {
          "name": "stdout",
          "output_type": "stream",
          "text": [
            "What do you want to do?\n",
            "1.Search\n",
            "2.Quit\n",
            "2\n",
            "Goodbye!\n"
          ]
        }
      ],
      "source": [
        "main() #Lirik only"
      ]
    },
    {
      "cell_type": "code",
      "execution_count": 47,
      "metadata": {
        "colab": {
          "base_uri": "https://localhost:8080/",
          "height": 659
        },
        "id": "29mqeRnfT-ty",
        "outputId": "7c01829c-6099-4de0-b724-47e57164e62a"
      },
      "outputs": [
        {
          "name": "stdout",
          "output_type": "stream",
          "text": [
            "Hello I am Music Checker(temp)\n",
            " \n",
            "  \n",
            "What do you want to do?\n",
            "1.Search\n",
            "2.Quit\n",
            "1\n",
            "Please input the title of the song. (You can leave it blank if you don't know)\n",
            "\n",
            "Please input the artist of the song. (You can leave it blank if you don't know)\n",
            "Linkin park\n",
            "Please input part of the lyrics of the song. (You can leave it blank if you don't know)\n",
            "I'm a little closer to the edge, I'm about to break\n"
          ]
        },
        {
          "data": {
            "text/html": [
              "<div>\n",
              "<style scoped>\n",
              "    .dataframe tbody tr th:only-of-type {\n",
              "        vertical-align: middle;\n",
              "    }\n",
              "\n",
              "    .dataframe tbody tr th {\n",
              "        vertical-align: top;\n",
              "    }\n",
              "\n",
              "    .dataframe thead th {\n",
              "        text-align: right;\n",
              "    }\n",
              "</style>\n",
              "<table border=\"1\" class=\"dataframe\">\n",
              "  <thead>\n",
              "    <tr style=\"text-align: right;\">\n",
              "      <th></th>\n",
              "      <th>track_name</th>\n",
              "      <th>track_artist</th>\n",
              "      <th>lyrics</th>\n",
              "      <th>track_popularity</th>\n",
              "      <th>playlist_genre</th>\n",
              "    </tr>\n",
              "  </thead>\n",
              "  <tbody>\n",
              "    <tr>\n",
              "      <th>0</th>\n",
              "      <td>One Step Closer</td>\n",
              "      <td>Linkin Park</td>\n",
              "      <td>I cannot take this anymore Saying everything I...</td>\n",
              "      <td>74</td>\n",
              "      <td>rock</td>\n",
              "    </tr>\n",
              "    <tr>\n",
              "      <th>1</th>\n",
              "      <td>Given Up</td>\n",
              "      <td>Linkin Park</td>\n",
              "      <td>Waking in sweat again Another day's been laid ...</td>\n",
              "      <td>67</td>\n",
              "      <td>rock</td>\n",
              "    </tr>\n",
              "    <tr>\n",
              "      <th>2</th>\n",
              "      <td>Given Up</td>\n",
              "      <td>Linkin Park</td>\n",
              "      <td>Waking in sweat again Another day's been laid ...</td>\n",
              "      <td>37</td>\n",
              "      <td>rock</td>\n",
              "    </tr>\n",
              "    <tr>\n",
              "      <th>3</th>\n",
              "      <td>Lying from You</td>\n",
              "      <td>Linkin Park</td>\n",
              "      <td>When I pretend everything is what I want it to...</td>\n",
              "      <td>58</td>\n",
              "      <td>rock</td>\n",
              "    </tr>\n",
              "    <tr>\n",
              "      <th>4</th>\n",
              "      <td>Breaking the Habit</td>\n",
              "      <td>Linkin Park</td>\n",
              "      <td>Memories consume, like opening the wound I'm p...</td>\n",
              "      <td>65</td>\n",
              "      <td>rock</td>\n",
              "    </tr>\n",
              "    <tr>\n",
              "      <th>5</th>\n",
              "      <td>A LIGHT THAT NEVER COMES - Twoloud Remix</td>\n",
              "      <td>Linkin Park</td>\n",
              "      <td>Nah, you don't know me Lightning above and a f...</td>\n",
              "      <td>0</td>\n",
              "      <td>edm</td>\n",
              "    </tr>\n",
              "    <tr>\n",
              "      <th>6</th>\n",
              "      <td>CASTLE OF GLASS</td>\n",
              "      <td>Linkin Park</td>\n",
              "      <td>Take me down to the river bend Take me down to...</td>\n",
              "      <td>71</td>\n",
              "      <td>pop</td>\n",
              "    </tr>\n",
              "    <tr>\n",
              "      <th>7</th>\n",
              "      <td>Faint</td>\n",
              "      <td>Linkin Park</td>\n",
              "      <td>I am a little bit of loneliness A little bit o...</td>\n",
              "      <td>57</td>\n",
              "      <td>rock</td>\n",
              "    </tr>\n",
              "    <tr>\n",
              "      <th>8</th>\n",
              "      <td>Faint</td>\n",
              "      <td>Linkin Park</td>\n",
              "      <td>I am a little bit of loneliness A little bit o...</td>\n",
              "      <td>69</td>\n",
              "      <td>rock</td>\n",
              "    </tr>\n",
              "    <tr>\n",
              "      <th>9</th>\n",
              "      <td>Numb</td>\n",
              "      <td>Linkin Park</td>\n",
              "      <td>I'm tired of being what you want me to be Feel...</td>\n",
              "      <td>81</td>\n",
              "      <td>rock</td>\n",
              "    </tr>\n",
              "  </tbody>\n",
              "</table>\n",
              "</div>"
            ],
            "text/plain": [
              "                                 track_name  ... playlist_genre\n",
              "0                           One Step Closer  ...           rock\n",
              "1                                  Given Up  ...           rock\n",
              "2                                  Given Up  ...           rock\n",
              "3                            Lying from You  ...           rock\n",
              "4                        Breaking the Habit  ...           rock\n",
              "5  A LIGHT THAT NEVER COMES - Twoloud Remix  ...            edm\n",
              "6                           CASTLE OF GLASS  ...            pop\n",
              "7                                     Faint  ...           rock\n",
              "8                                     Faint  ...           rock\n",
              "9                                      Numb  ...           rock\n",
              "\n",
              "[10 rows x 5 columns]"
            ]
          },
          "metadata": {
            "tags": []
          },
          "output_type": "display_data"
        },
        {
          "name": "stdout",
          "output_type": "stream",
          "text": [
            "What do you want to do?\n",
            "1.Search\n",
            "2.Quit\n",
            "2\n",
            "Goodbye!\n"
          ]
        }
      ],
      "source": [
        "main() #Lirik & Artist"
      ]
    },
    {
      "cell_type": "code",
      "execution_count": null,
      "metadata": {
        "id": "O5ryAs7CXwVj"
      },
      "outputs": [],
      "source": [
        "main() #Lirik & Title"
      ]
    },
    {
      "cell_type": "code",
      "execution_count": null,
      "metadata": {
        "id": "6WYz4HigcVCy"
      },
      "outputs": [],
      "source": [
        "main() #Title & Artist"
      ]
    },
    {
      "cell_type": "code",
      "execution_count": null,
      "metadata": {
        "id": "UuaHwn-UiZFS"
      },
      "outputs": [],
      "source": [
        "main() #Walkthrough"
      ]
    },
    {
      "cell_type": "code",
      "execution_count": null,
      "metadata": {
        "id": "r0cTL1e9igNB"
      },
      "outputs": [],
      "source": []
    }
  ],
  "metadata": {
    "accelerator": "GPU",
    "colab": {
      "collapsed_sections": [],
      "name": "Song Chatbot.ipynb",
      "provenance": [],
      "toc_visible": true
    },
    "kernelspec": {
      "display_name": "Python 3.9.7 ('base')",
      "language": "python",
      "name": "python3"
    },
    "language_info": {
      "codemirror_mode": {
        "name": "ipython",
        "version": 3
      },
      "file_extension": ".py",
      "mimetype": "text/x-python",
      "name": "python",
      "nbconvert_exporter": "python",
      "pygments_lexer": "ipython3",
      "version": "3.9.7"
    },
    "vscode": {
      "interpreter": {
        "hash": "9a35a79adf4474dbddddf6d55d8878f5054c9d7c6f325471385e7e465c5c53d7"
      }
    }
  },
  "nbformat": 4,
  "nbformat_minor": 0
}
